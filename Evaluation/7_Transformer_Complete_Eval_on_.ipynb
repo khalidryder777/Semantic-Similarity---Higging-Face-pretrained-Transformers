{
  "nbformat": 4,
  "nbformat_minor": 0,
  "metadata": {
    "colab": {
      "provenance": []
    },
    "kernelspec": {
      "name": "python3",
      "display_name": "Python 3"
    },
    "language_info": {
      "name": "python"
    }
  },
  "cells": [
    {
      "cell_type": "code",
      "source": [
        "import pandas as pd\n",
        "import csv\n"
      ],
      "metadata": {
        "id": "CPv8bV7WHBM4"
      },
      "execution_count": 11,
      "outputs": []
    },
    {
      "cell_type": "code",
      "execution_count": 25,
      "metadata": {
        "id": "RRa5NiS7cVDX"
      },
      "outputs": [],
      "source": [
        "# Define the column names for the CSV\n",
        "column_names = ['SP', 'Sentence1', 'Sentence2', '(Human ratings of semantic similarity)', 'S']\n",
        "\n",
        "# Open the text file for reading\n",
        "with open('/content/Human Ratings_wo_cols.txt', 'r') as input_file:\n",
        "\n",
        "    # Initialize a list to hold the rows of data for the CSV\n",
        "    csv_data = []\n",
        "\n",
        "    # Initialize a list to hold the current row of data\n",
        "    current_row = []\n",
        "\n",
        "    # Loop through each line in the input file\n",
        "    for line in input_file:\n",
        "\n",
        "        # Strip any leading/trailing whitespace\n",
        "        line = line.strip()\n",
        "\n",
        "        # If the line is not empty, append it to the current row of data\n",
        "        if line:\n",
        "            current_row.append(line)\n",
        "            #print(current_row)\n",
        "\n",
        "        # If the line is empty and there are 5 fields in the current row, append it to the csv_data list\n",
        "        if len(current_row) == 5:\n",
        "            csv_data.append(current_row)\n",
        "            current_row = []\n",
        "\n",
        "    # If there are 5 fields in the current row after processing all lines, append it to the csv_data list\n",
        "    if len(current_row) == 5:\n",
        "        csv_data.append(current_row)\n",
        "\n",
        "# Write the CSV file\n",
        "with open('output_csv.csv', 'w', newline='') as output_file:\n",
        "    csv_writer = csv.writer(output_file)\n",
        "    csv_writer.writerow(column_names)\n",
        "    csv_writer.writerows(csv_data)"
      ]
    },
    {
      "cell_type": "code",
      "source": [
        "df = pd.read_csv(\"/content/output_csv.csv\")"
      ],
      "metadata": {
        "id": "mXDQw1egG9oJ"
      },
      "execution_count": 26,
      "outputs": []
    },
    {
      "cell_type": "code",
      "source": [
        "df.head()"
      ],
      "metadata": {
        "colab": {
          "base_uri": "https://localhost:8080/",
          "height": 354
        },
        "id": "qkvYNPOLHFiI",
        "outputId": "9ca45418-698c-416d-90a7-e1ca6b7dc95d"
      },
      "execution_count": 37,
      "outputs": [
        {
          "output_type": "execute_result",
          "data": {
            "text/plain": [
              "   SP                                          Sentence1  \\\n",
              "0  66  Would you like to go out to drink with me toni...   \n",
              "1  67  I advise you to treat this matter very serious...   \n",
              "2  68  When I was going out to meet my friends there ...   \n",
              "3  69  Does music help you to relax, or does it distr...   \n",
              "4  70  You must realise that you will definitely be p...   \n",
              "\n",
              "                                           Sentence2  \\\n",
              "0  I really don't know what to eat tonight so I m...   \n",
              "1  You must take this most seriously, it will aff...   \n",
              "2  The train operator announced to the passengers...   \n",
              "3           Does this sponge look wet or dry to you?   \n",
              "4  He will be harshly punished for setting the fi...   \n",
              "\n",
              "   (Human ratings of semantic similarity)     S  \n",
              "0                                    1.01  0.77  \n",
              "1                                    3.38  0.69  \n",
              "2                                    3.13  0.68  \n",
              "3                                    0.10  0.29  \n",
              "4                                    2.84  0.87  "
            ],
            "text/html": [
              "\n",
              "  <div id=\"df-a2955be8-1390-4aef-a92e-25dcb94137f0\">\n",
              "    <div class=\"colab-df-container\">\n",
              "      <div>\n",
              "<style scoped>\n",
              "    .dataframe tbody tr th:only-of-type {\n",
              "        vertical-align: middle;\n",
              "    }\n",
              "\n",
              "    .dataframe tbody tr th {\n",
              "        vertical-align: top;\n",
              "    }\n",
              "\n",
              "    .dataframe thead th {\n",
              "        text-align: right;\n",
              "    }\n",
              "</style>\n",
              "<table border=\"1\" class=\"dataframe\">\n",
              "  <thead>\n",
              "    <tr style=\"text-align: right;\">\n",
              "      <th></th>\n",
              "      <th>SP</th>\n",
              "      <th>Sentence1</th>\n",
              "      <th>Sentence2</th>\n",
              "      <th>(Human ratings of semantic similarity)</th>\n",
              "      <th>S</th>\n",
              "    </tr>\n",
              "  </thead>\n",
              "  <tbody>\n",
              "    <tr>\n",
              "      <th>0</th>\n",
              "      <td>66</td>\n",
              "      <td>Would you like to go out to drink with me toni...</td>\n",
              "      <td>I really don't know what to eat tonight so I m...</td>\n",
              "      <td>1.01</td>\n",
              "      <td>0.77</td>\n",
              "    </tr>\n",
              "    <tr>\n",
              "      <th>1</th>\n",
              "      <td>67</td>\n",
              "      <td>I advise you to treat this matter very serious...</td>\n",
              "      <td>You must take this most seriously, it will aff...</td>\n",
              "      <td>3.38</td>\n",
              "      <td>0.69</td>\n",
              "    </tr>\n",
              "    <tr>\n",
              "      <th>2</th>\n",
              "      <td>68</td>\n",
              "      <td>When I was going out to meet my friends there ...</td>\n",
              "      <td>The train operator announced to the passengers...</td>\n",
              "      <td>3.13</td>\n",
              "      <td>0.68</td>\n",
              "    </tr>\n",
              "    <tr>\n",
              "      <th>3</th>\n",
              "      <td>69</td>\n",
              "      <td>Does music help you to relax, or does it distr...</td>\n",
              "      <td>Does this sponge look wet or dry to you?</td>\n",
              "      <td>0.10</td>\n",
              "      <td>0.29</td>\n",
              "    </tr>\n",
              "    <tr>\n",
              "      <th>4</th>\n",
              "      <td>70</td>\n",
              "      <td>You must realise that you will definitely be p...</td>\n",
              "      <td>He will be harshly punished for setting the fi...</td>\n",
              "      <td>2.84</td>\n",
              "      <td>0.87</td>\n",
              "    </tr>\n",
              "  </tbody>\n",
              "</table>\n",
              "</div>\n",
              "      <button class=\"colab-df-convert\" onclick=\"convertToInteractive('df-a2955be8-1390-4aef-a92e-25dcb94137f0')\"\n",
              "              title=\"Convert this dataframe to an interactive table.\"\n",
              "              style=\"display:none;\">\n",
              "        \n",
              "  <svg xmlns=\"http://www.w3.org/2000/svg\" height=\"24px\"viewBox=\"0 0 24 24\"\n",
              "       width=\"24px\">\n",
              "    <path d=\"M0 0h24v24H0V0z\" fill=\"none\"/>\n",
              "    <path d=\"M18.56 5.44l.94 2.06.94-2.06 2.06-.94-2.06-.94-.94-2.06-.94 2.06-2.06.94zm-11 1L8.5 8.5l.94-2.06 2.06-.94-2.06-.94L8.5 2.5l-.94 2.06-2.06.94zm10 10l.94 2.06.94-2.06 2.06-.94-2.06-.94-.94-2.06-.94 2.06-2.06.94z\"/><path d=\"M17.41 7.96l-1.37-1.37c-.4-.4-.92-.59-1.43-.59-.52 0-1.04.2-1.43.59L10.3 9.45l-7.72 7.72c-.78.78-.78 2.05 0 2.83L4 21.41c.39.39.9.59 1.41.59.51 0 1.02-.2 1.41-.59l7.78-7.78 2.81-2.81c.8-.78.8-2.07 0-2.86zM5.41 20L4 18.59l7.72-7.72 1.47 1.35L5.41 20z\"/>\n",
              "  </svg>\n",
              "      </button>\n",
              "      \n",
              "  <style>\n",
              "    .colab-df-container {\n",
              "      display:flex;\n",
              "      flex-wrap:wrap;\n",
              "      gap: 12px;\n",
              "    }\n",
              "\n",
              "    .colab-df-convert {\n",
              "      background-color: #E8F0FE;\n",
              "      border: none;\n",
              "      border-radius: 50%;\n",
              "      cursor: pointer;\n",
              "      display: none;\n",
              "      fill: #1967D2;\n",
              "      height: 32px;\n",
              "      padding: 0 0 0 0;\n",
              "      width: 32px;\n",
              "    }\n",
              "\n",
              "    .colab-df-convert:hover {\n",
              "      background-color: #E2EBFA;\n",
              "      box-shadow: 0px 1px 2px rgba(60, 64, 67, 0.3), 0px 1px 3px 1px rgba(60, 64, 67, 0.15);\n",
              "      fill: #174EA6;\n",
              "    }\n",
              "\n",
              "    [theme=dark] .colab-df-convert {\n",
              "      background-color: #3B4455;\n",
              "      fill: #D2E3FC;\n",
              "    }\n",
              "\n",
              "    [theme=dark] .colab-df-convert:hover {\n",
              "      background-color: #434B5C;\n",
              "      box-shadow: 0px 1px 3px 1px rgba(0, 0, 0, 0.15);\n",
              "      filter: drop-shadow(0px 1px 2px rgba(0, 0, 0, 0.3));\n",
              "      fill: #FFFFFF;\n",
              "    }\n",
              "  </style>\n",
              "\n",
              "      <script>\n",
              "        const buttonEl =\n",
              "          document.querySelector('#df-a2955be8-1390-4aef-a92e-25dcb94137f0 button.colab-df-convert');\n",
              "        buttonEl.style.display =\n",
              "          google.colab.kernel.accessAllowed ? 'block' : 'none';\n",
              "\n",
              "        async function convertToInteractive(key) {\n",
              "          const element = document.querySelector('#df-a2955be8-1390-4aef-a92e-25dcb94137f0');\n",
              "          const dataTable =\n",
              "            await google.colab.kernel.invokeFunction('convertToInteractive',\n",
              "                                                     [key], {});\n",
              "          if (!dataTable) return;\n",
              "\n",
              "          const docLinkHtml = 'Like what you see? Visit the ' +\n",
              "            '<a target=\"_blank\" href=https://colab.research.google.com/notebooks/data_table.ipynb>data table notebook</a>'\n",
              "            + ' to learn more about interactive tables.';\n",
              "          element.innerHTML = '';\n",
              "          dataTable['output_type'] = 'display_data';\n",
              "          await google.colab.output.renderOutput(dataTable, element);\n",
              "          const docLink = document.createElement('div');\n",
              "          docLink.innerHTML = docLinkHtml;\n",
              "          element.appendChild(docLink);\n",
              "        }\n",
              "      </script>\n",
              "    </div>\n",
              "  </div>\n",
              "  "
            ]
          },
          "metadata": {},
          "execution_count": 37
        }
      ]
    },
    {
      "cell_type": "code",
      "source": [
        "len(df)"
      ],
      "metadata": {
        "colab": {
          "base_uri": "https://localhost:8080/"
        },
        "id": "Hrk5l5KHHHI9",
        "outputId": "c1d60f74-b82a-4343-f222-05604c749574"
      },
      "execution_count": 28,
      "outputs": [
        {
          "output_type": "execute_result",
          "data": {
            "text/plain": [
              "66"
            ]
          },
          "metadata": {},
          "execution_count": 28
        }
      ]
    },
    {
      "cell_type": "code",
      "source": [
        "print(\"Max STD is: \" + str(max(df['S'])))\n",
        "print(\"Min STD is: \" + str(min(df['S'])))"
      ],
      "metadata": {
        "colab": {
          "base_uri": "https://localhost:8080/"
        },
        "id": "FcL8isO8Klh1",
        "outputId": "eada47a6-488c-482c-a1f9-52d506f594b6"
      },
      "execution_count": 40,
      "outputs": [
        {
          "output_type": "stream",
          "name": "stdout",
          "text": [
            "Max STD is: 1.09\n",
            "Max STD is: 0.16\n"
          ]
        }
      ]
    },
    {
      "cell_type": "code",
      "source": [
        "print(\"Max similarity is: \" + str(max(df['(Human ratings of semantic similarity)'])))\n",
        "print(\"Min similarity is: \" + str(min(df['(Human ratings of semantic similarity)'])))"
      ],
      "metadata": {
        "colab": {
          "base_uri": "https://localhost:8080/"
        },
        "id": "sdUnKwZPPmHB",
        "outputId": "db12f979-339a-4282-dd55-ec8668aae54c"
      },
      "execution_count": 42,
      "outputs": [
        {
          "output_type": "stream",
          "name": "stdout",
          "text": [
            "Max similarity is: 3.96\n",
            "Min similarity is: 0.08\n"
          ]
        }
      ]
    },
    {
      "cell_type": "code",
      "source": [
        "df.rename(columns = {'(Human ratings of semantic similarity)':'Human ratings (1-5)'}, inplace = True)"
      ],
      "metadata": {
        "id": "JuvjvPVyQ1tc"
      },
      "execution_count": 43,
      "outputs": []
    },
    {
      "cell_type": "code",
      "source": [
        "df.head(2)"
      ],
      "metadata": {
        "colab": {
          "base_uri": "https://localhost:8080/",
          "height": 208
        },
        "id": "CL1b9g6XR4Pp",
        "outputId": "102ae5a3-8813-429a-9175-f90e519608ed"
      },
      "execution_count": 44,
      "outputs": [
        {
          "output_type": "execute_result",
          "data": {
            "text/plain": [
              "   SP                                          Sentence1  \\\n",
              "0  66  Would you like to go out to drink with me toni...   \n",
              "1  67  I advise you to treat this matter very serious...   \n",
              "\n",
              "                                           Sentence2  Human ratings (1-5)  \\\n",
              "0  I really don't know what to eat tonight so I m...                 1.01   \n",
              "1  You must take this most seriously, it will aff...                 3.38   \n",
              "\n",
              "      S  \n",
              "0  0.77  \n",
              "1  0.69  "
            ],
            "text/html": [
              "\n",
              "  <div id=\"df-92cf031a-a498-4a5c-891b-96d9dcdedc20\">\n",
              "    <div class=\"colab-df-container\">\n",
              "      <div>\n",
              "<style scoped>\n",
              "    .dataframe tbody tr th:only-of-type {\n",
              "        vertical-align: middle;\n",
              "    }\n",
              "\n",
              "    .dataframe tbody tr th {\n",
              "        vertical-align: top;\n",
              "    }\n",
              "\n",
              "    .dataframe thead th {\n",
              "        text-align: right;\n",
              "    }\n",
              "</style>\n",
              "<table border=\"1\" class=\"dataframe\">\n",
              "  <thead>\n",
              "    <tr style=\"text-align: right;\">\n",
              "      <th></th>\n",
              "      <th>SP</th>\n",
              "      <th>Sentence1</th>\n",
              "      <th>Sentence2</th>\n",
              "      <th>Human ratings (1-5)</th>\n",
              "      <th>S</th>\n",
              "    </tr>\n",
              "  </thead>\n",
              "  <tbody>\n",
              "    <tr>\n",
              "      <th>0</th>\n",
              "      <td>66</td>\n",
              "      <td>Would you like to go out to drink with me toni...</td>\n",
              "      <td>I really don't know what to eat tonight so I m...</td>\n",
              "      <td>1.01</td>\n",
              "      <td>0.77</td>\n",
              "    </tr>\n",
              "    <tr>\n",
              "      <th>1</th>\n",
              "      <td>67</td>\n",
              "      <td>I advise you to treat this matter very serious...</td>\n",
              "      <td>You must take this most seriously, it will aff...</td>\n",
              "      <td>3.38</td>\n",
              "      <td>0.69</td>\n",
              "    </tr>\n",
              "  </tbody>\n",
              "</table>\n",
              "</div>\n",
              "      <button class=\"colab-df-convert\" onclick=\"convertToInteractive('df-92cf031a-a498-4a5c-891b-96d9dcdedc20')\"\n",
              "              title=\"Convert this dataframe to an interactive table.\"\n",
              "              style=\"display:none;\">\n",
              "        \n",
              "  <svg xmlns=\"http://www.w3.org/2000/svg\" height=\"24px\"viewBox=\"0 0 24 24\"\n",
              "       width=\"24px\">\n",
              "    <path d=\"M0 0h24v24H0V0z\" fill=\"none\"/>\n",
              "    <path d=\"M18.56 5.44l.94 2.06.94-2.06 2.06-.94-2.06-.94-.94-2.06-.94 2.06-2.06.94zm-11 1L8.5 8.5l.94-2.06 2.06-.94-2.06-.94L8.5 2.5l-.94 2.06-2.06.94zm10 10l.94 2.06.94-2.06 2.06-.94-2.06-.94-.94-2.06-.94 2.06-2.06.94z\"/><path d=\"M17.41 7.96l-1.37-1.37c-.4-.4-.92-.59-1.43-.59-.52 0-1.04.2-1.43.59L10.3 9.45l-7.72 7.72c-.78.78-.78 2.05 0 2.83L4 21.41c.39.39.9.59 1.41.59.51 0 1.02-.2 1.41-.59l7.78-7.78 2.81-2.81c.8-.78.8-2.07 0-2.86zM5.41 20L4 18.59l7.72-7.72 1.47 1.35L5.41 20z\"/>\n",
              "  </svg>\n",
              "      </button>\n",
              "      \n",
              "  <style>\n",
              "    .colab-df-container {\n",
              "      display:flex;\n",
              "      flex-wrap:wrap;\n",
              "      gap: 12px;\n",
              "    }\n",
              "\n",
              "    .colab-df-convert {\n",
              "      background-color: #E8F0FE;\n",
              "      border: none;\n",
              "      border-radius: 50%;\n",
              "      cursor: pointer;\n",
              "      display: none;\n",
              "      fill: #1967D2;\n",
              "      height: 32px;\n",
              "      padding: 0 0 0 0;\n",
              "      width: 32px;\n",
              "    }\n",
              "\n",
              "    .colab-df-convert:hover {\n",
              "      background-color: #E2EBFA;\n",
              "      box-shadow: 0px 1px 2px rgba(60, 64, 67, 0.3), 0px 1px 3px 1px rgba(60, 64, 67, 0.15);\n",
              "      fill: #174EA6;\n",
              "    }\n",
              "\n",
              "    [theme=dark] .colab-df-convert {\n",
              "      background-color: #3B4455;\n",
              "      fill: #D2E3FC;\n",
              "    }\n",
              "\n",
              "    [theme=dark] .colab-df-convert:hover {\n",
              "      background-color: #434B5C;\n",
              "      box-shadow: 0px 1px 3px 1px rgba(0, 0, 0, 0.15);\n",
              "      filter: drop-shadow(0px 1px 2px rgba(0, 0, 0, 0.3));\n",
              "      fill: #FFFFFF;\n",
              "    }\n",
              "  </style>\n",
              "\n",
              "      <script>\n",
              "        const buttonEl =\n",
              "          document.querySelector('#df-92cf031a-a498-4a5c-891b-96d9dcdedc20 button.colab-df-convert');\n",
              "        buttonEl.style.display =\n",
              "          google.colab.kernel.accessAllowed ? 'block' : 'none';\n",
              "\n",
              "        async function convertToInteractive(key) {\n",
              "          const element = document.querySelector('#df-92cf031a-a498-4a5c-891b-96d9dcdedc20');\n",
              "          const dataTable =\n",
              "            await google.colab.kernel.invokeFunction('convertToInteractive',\n",
              "                                                     [key], {});\n",
              "          if (!dataTable) return;\n",
              "\n",
              "          const docLinkHtml = 'Like what you see? Visit the ' +\n",
              "            '<a target=\"_blank\" href=https://colab.research.google.com/notebooks/data_table.ipynb>data table notebook</a>'\n",
              "            + ' to learn more about interactive tables.';\n",
              "          element.innerHTML = '';\n",
              "          dataTable['output_type'] = 'display_data';\n",
              "          await google.colab.output.renderOutput(dataTable, element);\n",
              "          const docLink = document.createElement('div');\n",
              "          docLink.innerHTML = docLinkHtml;\n",
              "          element.appendChild(docLink);\n",
              "        }\n",
              "      </script>\n",
              "    </div>\n",
              "  </div>\n",
              "  "
            ]
          },
          "metadata": {},
          "execution_count": 44
        }
      ]
    },
    {
      "cell_type": "markdown",
      "source": [
        "### let's normalize human ratings on a scale of 0-1 incl."
      ],
      "metadata": {
        "id": "R-N9bfE-SAYr"
      }
    },
    {
      "cell_type": "code",
      "source": [
        "# Normalize the Human Rating column\n",
        "min_value = 0\n",
        "max_value = 5\n",
        "df['Human Rating (0-1)'] = (df['Human ratings (1-5)'] - min_value) / (max_value - min_value)"
      ],
      "metadata": {
        "id": "RqfaBKhFR5SM"
      },
      "execution_count": 45,
      "outputs": []
    },
    {
      "cell_type": "code",
      "source": [
        "# df.head()"
      ],
      "metadata": {
        "id": "xu6-WoX_SwqS"
      },
      "execution_count": 49,
      "outputs": []
    },
    {
      "cell_type": "code",
      "source": [
        "# df.drop('Human ratings (1-5)', axis = 1, inplace = True)"
      ],
      "metadata": {
        "id": "223IWS33SxmN"
      },
      "execution_count": 50,
      "outputs": []
    },
    {
      "cell_type": "code",
      "source": [
        "df.columns"
      ],
      "metadata": {
        "colab": {
          "base_uri": "https://localhost:8080/"
        },
        "id": "ngJdFTReTMBU",
        "outputId": "dff18cc0-1bb5-428e-87b3-364a9fa8e047"
      },
      "execution_count": 51,
      "outputs": [
        {
          "output_type": "execute_result",
          "data": {
            "text/plain": [
              "Index(['SP', 'Sentence1', 'Sentence2', 'S', 'Human Rating (0-1)'], dtype='object')"
            ]
          },
          "metadata": {},
          "execution_count": 51
        }
      ]
    },
    {
      "cell_type": "code",
      "source": [
        "# df = df['SP', 'Sentence1', 'Sentence2','Human Rating (0-1)', 'S']"
      ],
      "metadata": {
        "id": "TYU9HjFkS-py"
      },
      "execution_count": 53,
      "outputs": []
    },
    {
      "cell_type": "code",
      "source": [
        "df.head()"
      ],
      "metadata": {
        "colab": {
          "base_uri": "https://localhost:8080/",
          "height": 354
        },
        "id": "_kyZc51sTAJ9",
        "outputId": "d43679f2-9f2a-44d4-9d66-8bcb412a140b"
      },
      "execution_count": 54,
      "outputs": [
        {
          "output_type": "execute_result",
          "data": {
            "text/plain": [
              "   SP                                          Sentence1  \\\n",
              "0  66  Would you like to go out to drink with me toni...   \n",
              "1  67  I advise you to treat this matter very serious...   \n",
              "2  68  When I was going out to meet my friends there ...   \n",
              "3  69  Does music help you to relax, or does it distr...   \n",
              "4  70  You must realise that you will definitely be p...   \n",
              "\n",
              "                                           Sentence2     S  Human Rating (0-1)  \n",
              "0  I really don't know what to eat tonight so I m...  0.77               0.202  \n",
              "1  You must take this most seriously, it will aff...  0.69               0.676  \n",
              "2  The train operator announced to the passengers...  0.68               0.626  \n",
              "3           Does this sponge look wet or dry to you?  0.29               0.020  \n",
              "4  He will be harshly punished for setting the fi...  0.87               0.568  "
            ],
            "text/html": [
              "\n",
              "  <div id=\"df-f931cdc7-292c-452c-9bb8-7e9f59ab7f65\">\n",
              "    <div class=\"colab-df-container\">\n",
              "      <div>\n",
              "<style scoped>\n",
              "    .dataframe tbody tr th:only-of-type {\n",
              "        vertical-align: middle;\n",
              "    }\n",
              "\n",
              "    .dataframe tbody tr th {\n",
              "        vertical-align: top;\n",
              "    }\n",
              "\n",
              "    .dataframe thead th {\n",
              "        text-align: right;\n",
              "    }\n",
              "</style>\n",
              "<table border=\"1\" class=\"dataframe\">\n",
              "  <thead>\n",
              "    <tr style=\"text-align: right;\">\n",
              "      <th></th>\n",
              "      <th>SP</th>\n",
              "      <th>Sentence1</th>\n",
              "      <th>Sentence2</th>\n",
              "      <th>S</th>\n",
              "      <th>Human Rating (0-1)</th>\n",
              "    </tr>\n",
              "  </thead>\n",
              "  <tbody>\n",
              "    <tr>\n",
              "      <th>0</th>\n",
              "      <td>66</td>\n",
              "      <td>Would you like to go out to drink with me toni...</td>\n",
              "      <td>I really don't know what to eat tonight so I m...</td>\n",
              "      <td>0.77</td>\n",
              "      <td>0.202</td>\n",
              "    </tr>\n",
              "    <tr>\n",
              "      <th>1</th>\n",
              "      <td>67</td>\n",
              "      <td>I advise you to treat this matter very serious...</td>\n",
              "      <td>You must take this most seriously, it will aff...</td>\n",
              "      <td>0.69</td>\n",
              "      <td>0.676</td>\n",
              "    </tr>\n",
              "    <tr>\n",
              "      <th>2</th>\n",
              "      <td>68</td>\n",
              "      <td>When I was going out to meet my friends there ...</td>\n",
              "      <td>The train operator announced to the passengers...</td>\n",
              "      <td>0.68</td>\n",
              "      <td>0.626</td>\n",
              "    </tr>\n",
              "    <tr>\n",
              "      <th>3</th>\n",
              "      <td>69</td>\n",
              "      <td>Does music help you to relax, or does it distr...</td>\n",
              "      <td>Does this sponge look wet or dry to you?</td>\n",
              "      <td>0.29</td>\n",
              "      <td>0.020</td>\n",
              "    </tr>\n",
              "    <tr>\n",
              "      <th>4</th>\n",
              "      <td>70</td>\n",
              "      <td>You must realise that you will definitely be p...</td>\n",
              "      <td>He will be harshly punished for setting the fi...</td>\n",
              "      <td>0.87</td>\n",
              "      <td>0.568</td>\n",
              "    </tr>\n",
              "  </tbody>\n",
              "</table>\n",
              "</div>\n",
              "      <button class=\"colab-df-convert\" onclick=\"convertToInteractive('df-f931cdc7-292c-452c-9bb8-7e9f59ab7f65')\"\n",
              "              title=\"Convert this dataframe to an interactive table.\"\n",
              "              style=\"display:none;\">\n",
              "        \n",
              "  <svg xmlns=\"http://www.w3.org/2000/svg\" height=\"24px\"viewBox=\"0 0 24 24\"\n",
              "       width=\"24px\">\n",
              "    <path d=\"M0 0h24v24H0V0z\" fill=\"none\"/>\n",
              "    <path d=\"M18.56 5.44l.94 2.06.94-2.06 2.06-.94-2.06-.94-.94-2.06-.94 2.06-2.06.94zm-11 1L8.5 8.5l.94-2.06 2.06-.94-2.06-.94L8.5 2.5l-.94 2.06-2.06.94zm10 10l.94 2.06.94-2.06 2.06-.94-2.06-.94-.94-2.06-.94 2.06-2.06.94z\"/><path d=\"M17.41 7.96l-1.37-1.37c-.4-.4-.92-.59-1.43-.59-.52 0-1.04.2-1.43.59L10.3 9.45l-7.72 7.72c-.78.78-.78 2.05 0 2.83L4 21.41c.39.39.9.59 1.41.59.51 0 1.02-.2 1.41-.59l7.78-7.78 2.81-2.81c.8-.78.8-2.07 0-2.86zM5.41 20L4 18.59l7.72-7.72 1.47 1.35L5.41 20z\"/>\n",
              "  </svg>\n",
              "      </button>\n",
              "      \n",
              "  <style>\n",
              "    .colab-df-container {\n",
              "      display:flex;\n",
              "      flex-wrap:wrap;\n",
              "      gap: 12px;\n",
              "    }\n",
              "\n",
              "    .colab-df-convert {\n",
              "      background-color: #E8F0FE;\n",
              "      border: none;\n",
              "      border-radius: 50%;\n",
              "      cursor: pointer;\n",
              "      display: none;\n",
              "      fill: #1967D2;\n",
              "      height: 32px;\n",
              "      padding: 0 0 0 0;\n",
              "      width: 32px;\n",
              "    }\n",
              "\n",
              "    .colab-df-convert:hover {\n",
              "      background-color: #E2EBFA;\n",
              "      box-shadow: 0px 1px 2px rgba(60, 64, 67, 0.3), 0px 1px 3px 1px rgba(60, 64, 67, 0.15);\n",
              "      fill: #174EA6;\n",
              "    }\n",
              "\n",
              "    [theme=dark] .colab-df-convert {\n",
              "      background-color: #3B4455;\n",
              "      fill: #D2E3FC;\n",
              "    }\n",
              "\n",
              "    [theme=dark] .colab-df-convert:hover {\n",
              "      background-color: #434B5C;\n",
              "      box-shadow: 0px 1px 3px 1px rgba(0, 0, 0, 0.15);\n",
              "      filter: drop-shadow(0px 1px 2px rgba(0, 0, 0, 0.3));\n",
              "      fill: #FFFFFF;\n",
              "    }\n",
              "  </style>\n",
              "\n",
              "      <script>\n",
              "        const buttonEl =\n",
              "          document.querySelector('#df-f931cdc7-292c-452c-9bb8-7e9f59ab7f65 button.colab-df-convert');\n",
              "        buttonEl.style.display =\n",
              "          google.colab.kernel.accessAllowed ? 'block' : 'none';\n",
              "\n",
              "        async function convertToInteractive(key) {\n",
              "          const element = document.querySelector('#df-f931cdc7-292c-452c-9bb8-7e9f59ab7f65');\n",
              "          const dataTable =\n",
              "            await google.colab.kernel.invokeFunction('convertToInteractive',\n",
              "                                                     [key], {});\n",
              "          if (!dataTable) return;\n",
              "\n",
              "          const docLinkHtml = 'Like what you see? Visit the ' +\n",
              "            '<a target=\"_blank\" href=https://colab.research.google.com/notebooks/data_table.ipynb>data table notebook</a>'\n",
              "            + ' to learn more about interactive tables.';\n",
              "          element.innerHTML = '';\n",
              "          dataTable['output_type'] = 'display_data';\n",
              "          await google.colab.output.renderOutput(dataTable, element);\n",
              "          const docLink = document.createElement('div');\n",
              "          docLink.innerHTML = docLinkHtml;\n",
              "          element.appendChild(docLink);\n",
              "        }\n",
              "      </script>\n",
              "    </div>\n",
              "  </div>\n",
              "  "
            ]
          },
          "metadata": {},
          "execution_count": 54
        }
      ]
    },
    {
      "cell_type": "code",
      "source": [
        "df.to_excel(\"Excel_output.xlsx\")  "
      ],
      "metadata": {
        "id": "Rg0vLXr-TfLW"
      },
      "execution_count": 56,
      "outputs": []
    },
    {
      "cell_type": "code",
      "source": [
        "# pip install sentence_transformers"
      ],
      "metadata": {
        "id": "JAm1JQ7gW9C2"
      },
      "execution_count": 62,
      "outputs": []
    },
    {
      "cell_type": "code",
      "source": [
        "from sentence_transformers import SentenceTransformer\n",
        "from sklearn.metrics.pairwise import cosine_similarity\n",
        "import numpy as np\n",
        "import matplotlib.pyplot as plt\n",
        "import seaborn as sns\n",
        "import pandas as pd"
      ],
      "metadata": {
        "id": "2R5caktwW7UX"
      },
      "execution_count": 63,
      "outputs": []
    },
    {
      "cell_type": "code",
      "source": [
        "for i in range(len(df)):\n",
        "    sentences = []\n",
        "    sentences.append(df.iloc[:,1][i])\n",
        "    sentences.append(df.iloc[:,2][i])\n",
        "    #print(sentences)"
      ],
      "metadata": {
        "id": "DP7aBDHsU-3Q"
      },
      "execution_count": 58,
      "outputs": []
    },
    {
      "cell_type": "code",
      "source": [
        "model1 = SentenceTransformer('sentence-transformers/bert-base-nli-mean-tokens')\n",
        "model2 = SentenceTransformer('sentence-transformers/all-MiniLM-L6-v2')\n",
        "model3 = SentenceTransformer('sentence-transformers/paraphrase-MiniLM-L6-v2')\n",
        "model4 = SentenceTransformer('sentence-transformers/paraphrase-multilingual-MiniLM-L12-v2')\n",
        "model5 = SentenceTransformer('sentence-transformers/all-distilroberta-v1')\n",
        "model6 = SentenceTransformer('sentence-transformers/all-mpnet-base-v2')\n",
        "model7 = SentenceTransformer('sentence-transformers/all-MiniLM-L12-v2')"
      ],
      "metadata": {
        "id": "EU8lAqEGWmvd"
      },
      "execution_count": 76,
      "outputs": []
    },
    {
      "cell_type": "code",
      "source": [
        "model1_sim = []\n",
        "for i in range(len(df)):\n",
        "    sentences = []\n",
        "    sentences.append(df.iloc[:,1][i])\n",
        "    sentences.append(df.iloc[:,2][i])\n",
        "    embeddings = model1.encode(sentences)\n",
        "    score = cosine_similarity(embeddings[[0]],embeddings[[1]])#[0]\n",
        "    s = score.tolist()       \n",
        "    model1_sim.append(s[0][0]) "
      ],
      "metadata": {
        "id": "Qz2o4niXc8vs"
      },
      "execution_count": 77,
      "outputs": []
    },
    {
      "cell_type": "code",
      "source": [
        "model2_sim = []\n",
        "for i in range(len(df)):\n",
        "    sentences = []\n",
        "    sentences.append(df.iloc[:,1][i])\n",
        "    sentences.append(df.iloc[:,2][i])\n",
        "    embeddings = model2.encode(sentences)\n",
        "    score = cosine_similarity(embeddings[[0]],embeddings[[1]])#[0]\n",
        "    s = score.tolist()       \n",
        "    model2_sim.append(s[0][0]) "
      ],
      "metadata": {
        "id": "P4kG0gpjdTSo"
      },
      "execution_count": 78,
      "outputs": []
    },
    {
      "cell_type": "code",
      "source": [
        "model3_sim = []\n",
        "for i in range(len(df)):\n",
        "    sentences = []\n",
        "    sentences.append(df.iloc[:,1][i])\n",
        "    sentences.append(df.iloc[:,2][i])\n",
        "    embeddings = model3.encode(sentences)\n",
        "    score = cosine_similarity(embeddings[[0]],embeddings[[1]])#[0]\n",
        "    s = score.tolist()       \n",
        "    model3_sim.append(s[0][0]) "
      ],
      "metadata": {
        "id": "OURz0A5vdUcz"
      },
      "execution_count": 79,
      "outputs": []
    },
    {
      "cell_type": "code",
      "source": [
        "model4_sim = []\n",
        "for i in range(len(df)):\n",
        "    sentences = []\n",
        "    sentences.append(df.iloc[:,1][i])\n",
        "    sentences.append(df.iloc[:,2][i])\n",
        "    embeddings = model4.encode(sentences)\n",
        "    score = cosine_similarity(embeddings[[0]],embeddings[[1]])#[0]\n",
        "    s = score.tolist()       \n",
        "    model4_sim.append(s[0][0]) "
      ],
      "metadata": {
        "id": "mbQM2u57dVKb"
      },
      "execution_count": 80,
      "outputs": []
    },
    {
      "cell_type": "code",
      "source": [
        "model5_sim = []\n",
        "for i in range(len(df)):\n",
        "    sentences = []\n",
        "    sentences.append(df.iloc[:,1][i])\n",
        "    sentences.append(df.iloc[:,2][i])\n",
        "    embeddings = model5.encode(sentences)\n",
        "    score = cosine_similarity(embeddings[[0]],embeddings[[1]])#[0]\n",
        "    s = score.tolist()       \n",
        "    model5_sim.append(s[0][0]) "
      ],
      "metadata": {
        "id": "xf8hoeBAdVuW"
      },
      "execution_count": 81,
      "outputs": []
    },
    {
      "cell_type": "code",
      "source": [
        "model6_sim = []\n",
        "for i in range(len(df)):\n",
        "    sentences = []\n",
        "    sentences.append(df.iloc[:,1][i])\n",
        "    sentences.append(df.iloc[:,2][i])\n",
        "    embeddings = model6.encode(sentences)\n",
        "    score = cosine_similarity(embeddings[[0]],embeddings[[1]])#[0]\n",
        "    s = score.tolist()       \n",
        "    model6_sim.append(s[0][0]) "
      ],
      "metadata": {
        "id": "UrQmiwC5dWVm"
      },
      "execution_count": 82,
      "outputs": []
    },
    {
      "cell_type": "code",
      "source": [
        "model7_sim = []\n",
        "for i in range(len(df)):\n",
        "    sentences = []\n",
        "    sentences.append(df.iloc[:,1][i])\n",
        "    sentences.append(df.iloc[:,2][i])\n",
        "    embeddings = model7.encode(sentences)\n",
        "    score = cosine_similarity(embeddings[[0]],embeddings[[1]])#[0]\n",
        "    s = score.tolist()       \n",
        "    model7_sim.append(s[0][0]) "
      ],
      "metadata": {
        "id": "aqjV7JPydW5J"
      },
      "execution_count": 83,
      "outputs": []
    },
    {
      "cell_type": "code",
      "source": [
        "sim_data = pd.DataFrame(list(zip(model1_sim, model2_sim, model3_sim, model4_sim, model5_sim, model6_sim, model7_sim )),\n",
        "               columns =['model1_sim','model2_sim','model3_sim','model4_sim','model5_sim','model6_sim','model7_sim'])"
      ],
      "metadata": {
        "id": "027rDHQmhf3N"
      },
      "execution_count": 85,
      "outputs": []
    },
    {
      "cell_type": "code",
      "source": [
        "final_df = pd.concat([df, sim_data], axis= 1)"
      ],
      "metadata": {
        "id": "8ejSR3CGhGyX"
      },
      "execution_count": 86,
      "outputs": []
    },
    {
      "cell_type": "code",
      "source": [
        "final_df.head()"
      ],
      "metadata": {
        "colab": {
          "base_uri": "https://localhost:8080/",
          "height": 670
        },
        "id": "lAD0QqgNhdDU",
        "outputId": "6d6ddb35-340a-4e49-8046-228e6166d2e9"
      },
      "execution_count": 87,
      "outputs": [
        {
          "output_type": "execute_result",
          "data": {
            "text/plain": [
              "   SP                                          Sentence1  \\\n",
              "0  66  Would you like to go out to drink with me toni...   \n",
              "1  67  I advise you to treat this matter very serious...   \n",
              "2  68  When I was going out to meet my friends there ...   \n",
              "3  69  Does music help you to relax, or does it distr...   \n",
              "4  70  You must realise that you will definitely be p...   \n",
              "\n",
              "                                           Sentence2     S  \\\n",
              "0  I really don't know what to eat tonight so I m...  0.77   \n",
              "1  You must take this most seriously, it will aff...  0.69   \n",
              "2  The train operator announced to the passengers...  0.68   \n",
              "3           Does this sponge look wet or dry to you?  0.29   \n",
              "4  He will be harshly punished for setting the fi...  0.87   \n",
              "\n",
              "   Human Rating (0-1)  model1_sim  model2_sim  model3_sim  model4_sim  \\\n",
              "0               0.202    0.574561    0.401688    0.604909    0.556527   \n",
              "1               0.676    0.847708    0.623459    0.606210    0.720132   \n",
              "2               0.626    0.795110    0.610298    0.580120    0.618650   \n",
              "3               0.020    0.434532    0.081748    0.070333    0.037349   \n",
              "4               0.568    0.848330    0.586308    0.578369    0.662019   \n",
              "\n",
              "   model5_sim  model6_sim  model7_sim  \n",
              "0    0.446287    0.487809    0.464361  \n",
              "1    0.548065    0.526409    0.533209  \n",
              "2    0.600126    0.575597    0.606999  \n",
              "3    0.028277    0.154332    0.180915  \n",
              "4    0.592620    0.616853    0.652445  "
            ],
            "text/html": [
              "\n",
              "  <div id=\"df-0dbb419c-1980-4364-92ae-a972bffbc556\">\n",
              "    <div class=\"colab-df-container\">\n",
              "      <div>\n",
              "<style scoped>\n",
              "    .dataframe tbody tr th:only-of-type {\n",
              "        vertical-align: middle;\n",
              "    }\n",
              "\n",
              "    .dataframe tbody tr th {\n",
              "        vertical-align: top;\n",
              "    }\n",
              "\n",
              "    .dataframe thead th {\n",
              "        text-align: right;\n",
              "    }\n",
              "</style>\n",
              "<table border=\"1\" class=\"dataframe\">\n",
              "  <thead>\n",
              "    <tr style=\"text-align: right;\">\n",
              "      <th></th>\n",
              "      <th>SP</th>\n",
              "      <th>Sentence1</th>\n",
              "      <th>Sentence2</th>\n",
              "      <th>S</th>\n",
              "      <th>Human Rating (0-1)</th>\n",
              "      <th>model1_sim</th>\n",
              "      <th>model2_sim</th>\n",
              "      <th>model3_sim</th>\n",
              "      <th>model4_sim</th>\n",
              "      <th>model5_sim</th>\n",
              "      <th>model6_sim</th>\n",
              "      <th>model7_sim</th>\n",
              "    </tr>\n",
              "  </thead>\n",
              "  <tbody>\n",
              "    <tr>\n",
              "      <th>0</th>\n",
              "      <td>66</td>\n",
              "      <td>Would you like to go out to drink with me toni...</td>\n",
              "      <td>I really don't know what to eat tonight so I m...</td>\n",
              "      <td>0.77</td>\n",
              "      <td>0.202</td>\n",
              "      <td>0.574561</td>\n",
              "      <td>0.401688</td>\n",
              "      <td>0.604909</td>\n",
              "      <td>0.556527</td>\n",
              "      <td>0.446287</td>\n",
              "      <td>0.487809</td>\n",
              "      <td>0.464361</td>\n",
              "    </tr>\n",
              "    <tr>\n",
              "      <th>1</th>\n",
              "      <td>67</td>\n",
              "      <td>I advise you to treat this matter very serious...</td>\n",
              "      <td>You must take this most seriously, it will aff...</td>\n",
              "      <td>0.69</td>\n",
              "      <td>0.676</td>\n",
              "      <td>0.847708</td>\n",
              "      <td>0.623459</td>\n",
              "      <td>0.606210</td>\n",
              "      <td>0.720132</td>\n",
              "      <td>0.548065</td>\n",
              "      <td>0.526409</td>\n",
              "      <td>0.533209</td>\n",
              "    </tr>\n",
              "    <tr>\n",
              "      <th>2</th>\n",
              "      <td>68</td>\n",
              "      <td>When I was going out to meet my friends there ...</td>\n",
              "      <td>The train operator announced to the passengers...</td>\n",
              "      <td>0.68</td>\n",
              "      <td>0.626</td>\n",
              "      <td>0.795110</td>\n",
              "      <td>0.610298</td>\n",
              "      <td>0.580120</td>\n",
              "      <td>0.618650</td>\n",
              "      <td>0.600126</td>\n",
              "      <td>0.575597</td>\n",
              "      <td>0.606999</td>\n",
              "    </tr>\n",
              "    <tr>\n",
              "      <th>3</th>\n",
              "      <td>69</td>\n",
              "      <td>Does music help you to relax, or does it distr...</td>\n",
              "      <td>Does this sponge look wet or dry to you?</td>\n",
              "      <td>0.29</td>\n",
              "      <td>0.020</td>\n",
              "      <td>0.434532</td>\n",
              "      <td>0.081748</td>\n",
              "      <td>0.070333</td>\n",
              "      <td>0.037349</td>\n",
              "      <td>0.028277</td>\n",
              "      <td>0.154332</td>\n",
              "      <td>0.180915</td>\n",
              "    </tr>\n",
              "    <tr>\n",
              "      <th>4</th>\n",
              "      <td>70</td>\n",
              "      <td>You must realise that you will definitely be p...</td>\n",
              "      <td>He will be harshly punished for setting the fi...</td>\n",
              "      <td>0.87</td>\n",
              "      <td>0.568</td>\n",
              "      <td>0.848330</td>\n",
              "      <td>0.586308</td>\n",
              "      <td>0.578369</td>\n",
              "      <td>0.662019</td>\n",
              "      <td>0.592620</td>\n",
              "      <td>0.616853</td>\n",
              "      <td>0.652445</td>\n",
              "    </tr>\n",
              "  </tbody>\n",
              "</table>\n",
              "</div>\n",
              "      <button class=\"colab-df-convert\" onclick=\"convertToInteractive('df-0dbb419c-1980-4364-92ae-a972bffbc556')\"\n",
              "              title=\"Convert this dataframe to an interactive table.\"\n",
              "              style=\"display:none;\">\n",
              "        \n",
              "  <svg xmlns=\"http://www.w3.org/2000/svg\" height=\"24px\"viewBox=\"0 0 24 24\"\n",
              "       width=\"24px\">\n",
              "    <path d=\"M0 0h24v24H0V0z\" fill=\"none\"/>\n",
              "    <path d=\"M18.56 5.44l.94 2.06.94-2.06 2.06-.94-2.06-.94-.94-2.06-.94 2.06-2.06.94zm-11 1L8.5 8.5l.94-2.06 2.06-.94-2.06-.94L8.5 2.5l-.94 2.06-2.06.94zm10 10l.94 2.06.94-2.06 2.06-.94-2.06-.94-.94-2.06-.94 2.06-2.06.94z\"/><path d=\"M17.41 7.96l-1.37-1.37c-.4-.4-.92-.59-1.43-.59-.52 0-1.04.2-1.43.59L10.3 9.45l-7.72 7.72c-.78.78-.78 2.05 0 2.83L4 21.41c.39.39.9.59 1.41.59.51 0 1.02-.2 1.41-.59l7.78-7.78 2.81-2.81c.8-.78.8-2.07 0-2.86zM5.41 20L4 18.59l7.72-7.72 1.47 1.35L5.41 20z\"/>\n",
              "  </svg>\n",
              "      </button>\n",
              "      \n",
              "  <style>\n",
              "    .colab-df-container {\n",
              "      display:flex;\n",
              "      flex-wrap:wrap;\n",
              "      gap: 12px;\n",
              "    }\n",
              "\n",
              "    .colab-df-convert {\n",
              "      background-color: #E8F0FE;\n",
              "      border: none;\n",
              "      border-radius: 50%;\n",
              "      cursor: pointer;\n",
              "      display: none;\n",
              "      fill: #1967D2;\n",
              "      height: 32px;\n",
              "      padding: 0 0 0 0;\n",
              "      width: 32px;\n",
              "    }\n",
              "\n",
              "    .colab-df-convert:hover {\n",
              "      background-color: #E2EBFA;\n",
              "      box-shadow: 0px 1px 2px rgba(60, 64, 67, 0.3), 0px 1px 3px 1px rgba(60, 64, 67, 0.15);\n",
              "      fill: #174EA6;\n",
              "    }\n",
              "\n",
              "    [theme=dark] .colab-df-convert {\n",
              "      background-color: #3B4455;\n",
              "      fill: #D2E3FC;\n",
              "    }\n",
              "\n",
              "    [theme=dark] .colab-df-convert:hover {\n",
              "      background-color: #434B5C;\n",
              "      box-shadow: 0px 1px 3px 1px rgba(0, 0, 0, 0.15);\n",
              "      filter: drop-shadow(0px 1px 2px rgba(0, 0, 0, 0.3));\n",
              "      fill: #FFFFFF;\n",
              "    }\n",
              "  </style>\n",
              "\n",
              "      <script>\n",
              "        const buttonEl =\n",
              "          document.querySelector('#df-0dbb419c-1980-4364-92ae-a972bffbc556 button.colab-df-convert');\n",
              "        buttonEl.style.display =\n",
              "          google.colab.kernel.accessAllowed ? 'block' : 'none';\n",
              "\n",
              "        async function convertToInteractive(key) {\n",
              "          const element = document.querySelector('#df-0dbb419c-1980-4364-92ae-a972bffbc556');\n",
              "          const dataTable =\n",
              "            await google.colab.kernel.invokeFunction('convertToInteractive',\n",
              "                                                     [key], {});\n",
              "          if (!dataTable) return;\n",
              "\n",
              "          const docLinkHtml = 'Like what you see? Visit the ' +\n",
              "            '<a target=\"_blank\" href=https://colab.research.google.com/notebooks/data_table.ipynb>data table notebook</a>'\n",
              "            + ' to learn more about interactive tables.';\n",
              "          element.innerHTML = '';\n",
              "          dataTable['output_type'] = 'display_data';\n",
              "          await google.colab.output.renderOutput(dataTable, element);\n",
              "          const docLink = document.createElement('div');\n",
              "          docLink.innerHTML = docLinkHtml;\n",
              "          element.appendChild(docLink);\n",
              "        }\n",
              "      </script>\n",
              "    </div>\n",
              "  </div>\n",
              "  "
            ]
          },
          "metadata": {},
          "execution_count": 87
        }
      ]
    },
    {
      "cell_type": "code",
      "source": [
        "final_df.columns"
      ],
      "metadata": {
        "colab": {
          "base_uri": "https://localhost:8080/"
        },
        "id": "CvOx1ZyykaiP",
        "outputId": "85a56428-cf2b-47bf-f3bb-df4583cf474b"
      },
      "execution_count": 96,
      "outputs": [
        {
          "output_type": "execute_result",
          "data": {
            "text/plain": [
              "Index(['SP', 'Sentence1', 'Sentence2', 'S', 'Human Rating (0-1)', 'model1_sim',\n",
              "       'model2_sim', 'model3_sim', 'model4_sim', 'model5_sim', 'model6_sim',\n",
              "       'model7_sim'],\n",
              "      dtype='object')"
            ]
          },
          "metadata": {},
          "execution_count": 96
        }
      ]
    },
    {
      "cell_type": "code",
      "source": [
        "# assuming df is your dataframe with all the similarity scores\n",
        "human_rating = final_df['Human Rating (0-1)']\n",
        "model_sims = df.iloc[:, 5:]"
      ],
      "metadata": {
        "id": "UWHhi4JviEoJ"
      },
      "execution_count": 88,
      "outputs": []
    },
    {
      "cell_type": "code",
      "source": [
        "# calculate correlation matrix\n",
        "corr_matrix = final_df.drop(['SP', 'Sentence1', 'Sentence2', 'S'],axis=1).corr()"
      ],
      "metadata": {
        "id": "e-jvPxSJj5wX"
      },
      "execution_count": 97,
      "outputs": []
    },
    {
      "cell_type": "code",
      "source": [
        "# model1 = SentenceTransformer('sentence-transformers/bert-base-nli-mean-tokens')\n",
        "# model2 = SentenceTransformer('sentence-transformers/all-MiniLM-L6-v2')\n",
        "# model3 = SentenceTransformer('sentence-transformers/paraphrase-MiniLM-L6-v2')\n",
        "# model4 = SentenceTransformer('sentence-transformers/paraphrase-multilingual-MiniLM-L12-v2')\n",
        "# model5 = SentenceTransformer('sentence-transformers/all-distilroberta-v1')\n",
        "# model6 = SentenceTransformer('sentence-transformers/all-mpnet-base-v2')\n",
        "# model7 = SentenceTransformer('sentence-transformers/all-MiniLM-L12-v2')"
      ],
      "metadata": {
        "id": "NXpW7mbAk57T"
      },
      "execution_count": 101,
      "outputs": []
    },
    {
      "cell_type": "code",
      "source": [
        "corr_matrix"
      ],
      "metadata": {
        "colab": {
          "base_uri": "https://localhost:8080/",
          "height": 396
        },
        "id": "20bhI8fvkXpI",
        "outputId": "01f279eb-629a-4e07-93c4-26c7c49d40b0"
      },
      "execution_count": 98,
      "outputs": [
        {
          "output_type": "execute_result",
          "data": {
            "text/plain": [
              "                    Human Rating (0-1)  model1_sim  model2_sim  model3_sim  \\\n",
              "Human Rating (0-1)            1.000000    0.837749    0.918121    0.905663   \n",
              "model1_sim                    0.837749    1.000000    0.805193    0.842965   \n",
              "model2_sim                    0.918121    0.805193    1.000000    0.955995   \n",
              "model3_sim                    0.905663    0.842965    0.955995    1.000000   \n",
              "model4_sim                    0.922735    0.872415    0.949246    0.979567   \n",
              "model5_sim                    0.922343    0.833792    0.972353    0.957247   \n",
              "model6_sim                    0.912979    0.836639    0.967505    0.947678   \n",
              "model7_sim                    0.926704    0.809857    0.985463    0.955026   \n",
              "\n",
              "                    model4_sim  model5_sim  model6_sim  model7_sim  \n",
              "Human Rating (0-1)    0.922735    0.922343    0.912979    0.926704  \n",
              "model1_sim            0.872415    0.833792    0.836639    0.809857  \n",
              "model2_sim            0.949246    0.972353    0.967505    0.985463  \n",
              "model3_sim            0.979567    0.957247    0.947678    0.955026  \n",
              "model4_sim            1.000000    0.960090    0.945159    0.946102  \n",
              "model5_sim            0.960090    1.000000    0.980818    0.974935  \n",
              "model6_sim            0.945159    0.980818    1.000000    0.976238  \n",
              "model7_sim            0.946102    0.974935    0.976238    1.000000  "
            ],
            "text/html": [
              "\n",
              "  <div id=\"df-3058a0b3-067b-4e18-a03a-d56fcf79eb3c\">\n",
              "    <div class=\"colab-df-container\">\n",
              "      <div>\n",
              "<style scoped>\n",
              "    .dataframe tbody tr th:only-of-type {\n",
              "        vertical-align: middle;\n",
              "    }\n",
              "\n",
              "    .dataframe tbody tr th {\n",
              "        vertical-align: top;\n",
              "    }\n",
              "\n",
              "    .dataframe thead th {\n",
              "        text-align: right;\n",
              "    }\n",
              "</style>\n",
              "<table border=\"1\" class=\"dataframe\">\n",
              "  <thead>\n",
              "    <tr style=\"text-align: right;\">\n",
              "      <th></th>\n",
              "      <th>Human Rating (0-1)</th>\n",
              "      <th>model1_sim</th>\n",
              "      <th>model2_sim</th>\n",
              "      <th>model3_sim</th>\n",
              "      <th>model4_sim</th>\n",
              "      <th>model5_sim</th>\n",
              "      <th>model6_sim</th>\n",
              "      <th>model7_sim</th>\n",
              "    </tr>\n",
              "  </thead>\n",
              "  <tbody>\n",
              "    <tr>\n",
              "      <th>Human Rating (0-1)</th>\n",
              "      <td>1.000000</td>\n",
              "      <td>0.837749</td>\n",
              "      <td>0.918121</td>\n",
              "      <td>0.905663</td>\n",
              "      <td>0.922735</td>\n",
              "      <td>0.922343</td>\n",
              "      <td>0.912979</td>\n",
              "      <td>0.926704</td>\n",
              "    </tr>\n",
              "    <tr>\n",
              "      <th>model1_sim</th>\n",
              "      <td>0.837749</td>\n",
              "      <td>1.000000</td>\n",
              "      <td>0.805193</td>\n",
              "      <td>0.842965</td>\n",
              "      <td>0.872415</td>\n",
              "      <td>0.833792</td>\n",
              "      <td>0.836639</td>\n",
              "      <td>0.809857</td>\n",
              "    </tr>\n",
              "    <tr>\n",
              "      <th>model2_sim</th>\n",
              "      <td>0.918121</td>\n",
              "      <td>0.805193</td>\n",
              "      <td>1.000000</td>\n",
              "      <td>0.955995</td>\n",
              "      <td>0.949246</td>\n",
              "      <td>0.972353</td>\n",
              "      <td>0.967505</td>\n",
              "      <td>0.985463</td>\n",
              "    </tr>\n",
              "    <tr>\n",
              "      <th>model3_sim</th>\n",
              "      <td>0.905663</td>\n",
              "      <td>0.842965</td>\n",
              "      <td>0.955995</td>\n",
              "      <td>1.000000</td>\n",
              "      <td>0.979567</td>\n",
              "      <td>0.957247</td>\n",
              "      <td>0.947678</td>\n",
              "      <td>0.955026</td>\n",
              "    </tr>\n",
              "    <tr>\n",
              "      <th>model4_sim</th>\n",
              "      <td>0.922735</td>\n",
              "      <td>0.872415</td>\n",
              "      <td>0.949246</td>\n",
              "      <td>0.979567</td>\n",
              "      <td>1.000000</td>\n",
              "      <td>0.960090</td>\n",
              "      <td>0.945159</td>\n",
              "      <td>0.946102</td>\n",
              "    </tr>\n",
              "    <tr>\n",
              "      <th>model5_sim</th>\n",
              "      <td>0.922343</td>\n",
              "      <td>0.833792</td>\n",
              "      <td>0.972353</td>\n",
              "      <td>0.957247</td>\n",
              "      <td>0.960090</td>\n",
              "      <td>1.000000</td>\n",
              "      <td>0.980818</td>\n",
              "      <td>0.974935</td>\n",
              "    </tr>\n",
              "    <tr>\n",
              "      <th>model6_sim</th>\n",
              "      <td>0.912979</td>\n",
              "      <td>0.836639</td>\n",
              "      <td>0.967505</td>\n",
              "      <td>0.947678</td>\n",
              "      <td>0.945159</td>\n",
              "      <td>0.980818</td>\n",
              "      <td>1.000000</td>\n",
              "      <td>0.976238</td>\n",
              "    </tr>\n",
              "    <tr>\n",
              "      <th>model7_sim</th>\n",
              "      <td>0.926704</td>\n",
              "      <td>0.809857</td>\n",
              "      <td>0.985463</td>\n",
              "      <td>0.955026</td>\n",
              "      <td>0.946102</td>\n",
              "      <td>0.974935</td>\n",
              "      <td>0.976238</td>\n",
              "      <td>1.000000</td>\n",
              "    </tr>\n",
              "  </tbody>\n",
              "</table>\n",
              "</div>\n",
              "      <button class=\"colab-df-convert\" onclick=\"convertToInteractive('df-3058a0b3-067b-4e18-a03a-d56fcf79eb3c')\"\n",
              "              title=\"Convert this dataframe to an interactive table.\"\n",
              "              style=\"display:none;\">\n",
              "        \n",
              "  <svg xmlns=\"http://www.w3.org/2000/svg\" height=\"24px\"viewBox=\"0 0 24 24\"\n",
              "       width=\"24px\">\n",
              "    <path d=\"M0 0h24v24H0V0z\" fill=\"none\"/>\n",
              "    <path d=\"M18.56 5.44l.94 2.06.94-2.06 2.06-.94-2.06-.94-.94-2.06-.94 2.06-2.06.94zm-11 1L8.5 8.5l.94-2.06 2.06-.94-2.06-.94L8.5 2.5l-.94 2.06-2.06.94zm10 10l.94 2.06.94-2.06 2.06-.94-2.06-.94-.94-2.06-.94 2.06-2.06.94z\"/><path d=\"M17.41 7.96l-1.37-1.37c-.4-.4-.92-.59-1.43-.59-.52 0-1.04.2-1.43.59L10.3 9.45l-7.72 7.72c-.78.78-.78 2.05 0 2.83L4 21.41c.39.39.9.59 1.41.59.51 0 1.02-.2 1.41-.59l7.78-7.78 2.81-2.81c.8-.78.8-2.07 0-2.86zM5.41 20L4 18.59l7.72-7.72 1.47 1.35L5.41 20z\"/>\n",
              "  </svg>\n",
              "      </button>\n",
              "      \n",
              "  <style>\n",
              "    .colab-df-container {\n",
              "      display:flex;\n",
              "      flex-wrap:wrap;\n",
              "      gap: 12px;\n",
              "    }\n",
              "\n",
              "    .colab-df-convert {\n",
              "      background-color: #E8F0FE;\n",
              "      border: none;\n",
              "      border-radius: 50%;\n",
              "      cursor: pointer;\n",
              "      display: none;\n",
              "      fill: #1967D2;\n",
              "      height: 32px;\n",
              "      padding: 0 0 0 0;\n",
              "      width: 32px;\n",
              "    }\n",
              "\n",
              "    .colab-df-convert:hover {\n",
              "      background-color: #E2EBFA;\n",
              "      box-shadow: 0px 1px 2px rgba(60, 64, 67, 0.3), 0px 1px 3px 1px rgba(60, 64, 67, 0.15);\n",
              "      fill: #174EA6;\n",
              "    }\n",
              "\n",
              "    [theme=dark] .colab-df-convert {\n",
              "      background-color: #3B4455;\n",
              "      fill: #D2E3FC;\n",
              "    }\n",
              "\n",
              "    [theme=dark] .colab-df-convert:hover {\n",
              "      background-color: #434B5C;\n",
              "      box-shadow: 0px 1px 3px 1px rgba(0, 0, 0, 0.15);\n",
              "      filter: drop-shadow(0px 1px 2px rgba(0, 0, 0, 0.3));\n",
              "      fill: #FFFFFF;\n",
              "    }\n",
              "  </style>\n",
              "\n",
              "      <script>\n",
              "        const buttonEl =\n",
              "          document.querySelector('#df-3058a0b3-067b-4e18-a03a-d56fcf79eb3c button.colab-df-convert');\n",
              "        buttonEl.style.display =\n",
              "          google.colab.kernel.accessAllowed ? 'block' : 'none';\n",
              "\n",
              "        async function convertToInteractive(key) {\n",
              "          const element = document.querySelector('#df-3058a0b3-067b-4e18-a03a-d56fcf79eb3c');\n",
              "          const dataTable =\n",
              "            await google.colab.kernel.invokeFunction('convertToInteractive',\n",
              "                                                     [key], {});\n",
              "          if (!dataTable) return;\n",
              "\n",
              "          const docLinkHtml = 'Like what you see? Visit the ' +\n",
              "            '<a target=\"_blank\" href=https://colab.research.google.com/notebooks/data_table.ipynb>data table notebook</a>'\n",
              "            + ' to learn more about interactive tables.';\n",
              "          element.innerHTML = '';\n",
              "          dataTable['output_type'] = 'display_data';\n",
              "          await google.colab.output.renderOutput(dataTable, element);\n",
              "          const docLink = document.createElement('div');\n",
              "          docLink.innerHTML = docLinkHtml;\n",
              "          element.appendChild(docLink);\n",
              "        }\n",
              "      </script>\n",
              "    </div>\n",
              "  </div>\n",
              "  "
            ]
          },
          "metadata": {},
          "execution_count": 98
        }
      ]
    },
    {
      "cell_type": "code",
      "source": [
        "# plot correlation heatmap\n",
        "sns.heatmap(corr_matrix, annot=True, cmap='coolwarm')\n",
        "plt.title('Correlation Heatmap')\n",
        "plt.show()"
      ],
      "metadata": {
        "colab": {
          "base_uri": "https://localhost:8080/",
          "height": 370
        },
        "id": "zLWfD4R6j5mO",
        "outputId": "fc49e9af-b162-4db2-fed3-a8b6ac8b86b8"
      },
      "execution_count": 99,
      "outputs": [
        {
          "output_type": "display_data",
          "data": {
            "text/plain": [
              "<Figure size 432x288 with 2 Axes>"
            ],
            "image/png": "[encoded data removed]"
          },
          "metadata": {
            "needs_background": "light"
          }
        }
      ]
    },
    {
      "cell_type": "code",
      "source": [
        "dict = {'model1_sim': 'model1',\n",
        "        'model2_sim': 'model2',\n",
        "        'model3_sim': 'model3',\n",
        "        'model4_sim': 'model4',\n",
        "        'model5_sim': 'model5',\n",
        "        'model6_sim': 'model6',\n",
        "        'model7_sim': 'model7'\n",
        "        }\n",
        "\n",
        "final_df.rename(columns=dict,\n",
        "          inplace=True)"
      ],
      "metadata": {
        "id": "leg7QTt-naBw"
      },
      "execution_count": 103,
      "outputs": []
    },
    {
      "cell_type": "code",
      "source": [
        "final_df.head()"
      ],
      "metadata": {
        "colab": {
          "base_uri": "https://localhost:8080/",
          "height": 670
        },
        "id": "R5CD8sEooGTb",
        "outputId": "ef24f32e-057d-4bb8-8c61-6c5ecd85c778"
      },
      "execution_count": 104,
      "outputs": [
        {
          "output_type": "execute_result",
          "data": {
            "text/plain": [
              "   SP                                          Sentence1  \\\n",
              "0  66  Would you like to go out to drink with me toni...   \n",
              "1  67  I advise you to treat this matter very serious...   \n",
              "2  68  When I was going out to meet my friends there ...   \n",
              "3  69  Does music help you to relax, or does it distr...   \n",
              "4  70  You must realise that you will definitely be p...   \n",
              "\n",
              "                                           Sentence2     S  \\\n",
              "0  I really don't know what to eat tonight so I m...  0.77   \n",
              "1  You must take this most seriously, it will aff...  0.69   \n",
              "2  The train operator announced to the passengers...  0.68   \n",
              "3           Does this sponge look wet or dry to you?  0.29   \n",
              "4  He will be harshly punished for setting the fi...  0.87   \n",
              "\n",
              "   Human Rating (0-1)    model1    model2    model3    model4    model5  \\\n",
              "0               0.202  0.574561  0.401688  0.604909  0.556527  0.446287   \n",
              "1               0.676  0.847708  0.623459  0.606210  0.720132  0.548065   \n",
              "2               0.626  0.795110  0.610298  0.580120  0.618650  0.600126   \n",
              "3               0.020  0.434532  0.081748  0.070333  0.037349  0.028277   \n",
              "4               0.568  0.848330  0.586308  0.578369  0.662019  0.592620   \n",
              "\n",
              "     model6    model7  \n",
              "0  0.487809  0.464361  \n",
              "1  0.526409  0.533209  \n",
              "2  0.575597  0.606999  \n",
              "3  0.154332  0.180915  \n",
              "4  0.616853  0.652445  "
            ],
            "text/html": [
              "\n",
              "  <div id=\"df-208daea5-93fc-4961-a9b3-4e9b9d13c822\">\n",
              "    <div class=\"colab-df-container\">\n",
              "      <div>\n",
              "<style scoped>\n",
              "    .dataframe tbody tr th:only-of-type {\n",
              "        vertical-align: middle;\n",
              "    }\n",
              "\n",
              "    .dataframe tbody tr th {\n",
              "        vertical-align: top;\n",
              "    }\n",
              "\n",
              "    .dataframe thead th {\n",
              "        text-align: right;\n",
              "    }\n",
              "</style>\n",
              "<table border=\"1\" class=\"dataframe\">\n",
              "  <thead>\n",
              "    <tr style=\"text-align: right;\">\n",
              "      <th></th>\n",
              "      <th>SP</th>\n",
              "      <th>Sentence1</th>\n",
              "      <th>Sentence2</th>\n",
              "      <th>S</th>\n",
              "      <th>Human Rating (0-1)</th>\n",
              "      <th>model1</th>\n",
              "      <th>model2</th>\n",
              "      <th>model3</th>\n",
              "      <th>model4</th>\n",
              "      <th>model5</th>\n",
              "      <th>model6</th>\n",
              "      <th>model7</th>\n",
              "    </tr>\n",
              "  </thead>\n",
              "  <tbody>\n",
              "    <tr>\n",
              "      <th>0</th>\n",
              "      <td>66</td>\n",
              "      <td>Would you like to go out to drink with me toni...</td>\n",
              "      <td>I really don't know what to eat tonight so I m...</td>\n",
              "      <td>0.77</td>\n",
              "      <td>0.202</td>\n",
              "      <td>0.574561</td>\n",
              "      <td>0.401688</td>\n",
              "      <td>0.604909</td>\n",
              "      <td>0.556527</td>\n",
              "      <td>0.446287</td>\n",
              "      <td>0.487809</td>\n",
              "      <td>0.464361</td>\n",
              "    </tr>\n",
              "    <tr>\n",
              "      <th>1</th>\n",
              "      <td>67</td>\n",
              "      <td>I advise you to treat this matter very serious...</td>\n",
              "      <td>You must take this most seriously, it will aff...</td>\n",
              "      <td>0.69</td>\n",
              "      <td>0.676</td>\n",
              "      <td>0.847708</td>\n",
              "      <td>0.623459</td>\n",
              "      <td>0.606210</td>\n",
              "      <td>0.720132</td>\n",
              "      <td>0.548065</td>\n",
              "      <td>0.526409</td>\n",
              "      <td>0.533209</td>\n",
              "    </tr>\n",
              "    <tr>\n",
              "      <th>2</th>\n",
              "      <td>68</td>\n",
              "      <td>When I was going out to meet my friends there ...</td>\n",
              "      <td>The train operator announced to the passengers...</td>\n",
              "      <td>0.68</td>\n",
              "      <td>0.626</td>\n",
              "      <td>0.795110</td>\n",
              "      <td>0.610298</td>\n",
              "      <td>0.580120</td>\n",
              "      <td>0.618650</td>\n",
              "      <td>0.600126</td>\n",
              "      <td>0.575597</td>\n",
              "      <td>0.606999</td>\n",
              "    </tr>\n",
              "    <tr>\n",
              "      <th>3</th>\n",
              "      <td>69</td>\n",
              "      <td>Does music help you to relax, or does it distr...</td>\n",
              "      <td>Does this sponge look wet or dry to you?</td>\n",
              "      <td>0.29</td>\n",
              "      <td>0.020</td>\n",
              "      <td>0.434532</td>\n",
              "      <td>0.081748</td>\n",
              "      <td>0.070333</td>\n",
              "      <td>0.037349</td>\n",
              "      <td>0.028277</td>\n",
              "      <td>0.154332</td>\n",
              "      <td>0.180915</td>\n",
              "    </tr>\n",
              "    <tr>\n",
              "      <th>4</th>\n",
              "      <td>70</td>\n",
              "      <td>You must realise that you will definitely be p...</td>\n",
              "      <td>He will be harshly punished for setting the fi...</td>\n",
              "      <td>0.87</td>\n",
              "      <td>0.568</td>\n",
              "      <td>0.848330</td>\n",
              "      <td>0.586308</td>\n",
              "      <td>0.578369</td>\n",
              "      <td>0.662019</td>\n",
              "      <td>0.592620</td>\n",
              "      <td>0.616853</td>\n",
              "      <td>0.652445</td>\n",
              "    </tr>\n",
              "  </tbody>\n",
              "</table>\n",
              "</div>\n",
              "      <button class=\"colab-df-convert\" onclick=\"convertToInteractive('df-208daea5-93fc-4961-a9b3-4e9b9d13c822')\"\n",
              "              title=\"Convert this dataframe to an interactive table.\"\n",
              "              style=\"display:none;\">\n",
              "        \n",
              "  <svg xmlns=\"http://www.w3.org/2000/svg\" height=\"24px\"viewBox=\"0 0 24 24\"\n",
              "       width=\"24px\">\n",
              "    <path d=\"M0 0h24v24H0V0z\" fill=\"none\"/>\n",
              "    <path d=\"M18.56 5.44l.94 2.06.94-2.06 2.06-.94-2.06-.94-.94-2.06-.94 2.06-2.06.94zm-11 1L8.5 8.5l.94-2.06 2.06-.94-2.06-.94L8.5 2.5l-.94 2.06-2.06.94zm10 10l.94 2.06.94-2.06 2.06-.94-2.06-.94-.94-2.06-.94 2.06-2.06.94z\"/><path d=\"M17.41 7.96l-1.37-1.37c-.4-.4-.92-.59-1.43-.59-.52 0-1.04.2-1.43.59L10.3 9.45l-7.72 7.72c-.78.78-.78 2.05 0 2.83L4 21.41c.39.39.9.59 1.41.59.51 0 1.02-.2 1.41-.59l7.78-7.78 2.81-2.81c.8-.78.8-2.07 0-2.86zM5.41 20L4 18.59l7.72-7.72 1.47 1.35L5.41 20z\"/>\n",
              "  </svg>\n",
              "      </button>\n",
              "      \n",
              "  <style>\n",
              "    .colab-df-container {\n",
              "      display:flex;\n",
              "      flex-wrap:wrap;\n",
              "      gap: 12px;\n",
              "    }\n",
              "\n",
              "    .colab-df-convert {\n",
              "      background-color: #E8F0FE;\n",
              "      border: none;\n",
              "      border-radius: 50%;\n",
              "      cursor: pointer;\n",
              "      display: none;\n",
              "      fill: #1967D2;\n",
              "      height: 32px;\n",
              "      padding: 0 0 0 0;\n",
              "      width: 32px;\n",
              "    }\n",
              "\n",
              "    .colab-df-convert:hover {\n",
              "      background-color: #E2EBFA;\n",
              "      box-shadow: 0px 1px 2px rgba(60, 64, 67, 0.3), 0px 1px 3px 1px rgba(60, 64, 67, 0.15);\n",
              "      fill: #174EA6;\n",
              "    }\n",
              "\n",
              "    [theme=dark] .colab-df-convert {\n",
              "      background-color: #3B4455;\n",
              "      fill: #D2E3FC;\n",
              "    }\n",
              "\n",
              "    [theme=dark] .colab-df-convert:hover {\n",
              "      background-color: #434B5C;\n",
              "      box-shadow: 0px 1px 3px 1px rgba(0, 0, 0, 0.15);\n",
              "      filter: drop-shadow(0px 1px 2px rgba(0, 0, 0, 0.3));\n",
              "      fill: #FFFFFF;\n",
              "    }\n",
              "  </style>\n",
              "\n",
              "      <script>\n",
              "        const buttonEl =\n",
              "          document.querySelector('#df-208daea5-93fc-4961-a9b3-4e9b9d13c822 button.colab-df-convert');\n",
              "        buttonEl.style.display =\n",
              "          google.colab.kernel.accessAllowed ? 'block' : 'none';\n",
              "\n",
              "        async function convertToInteractive(key) {\n",
              "          const element = document.querySelector('#df-208daea5-93fc-4961-a9b3-4e9b9d13c822');\n",
              "          const dataTable =\n",
              "            await google.colab.kernel.invokeFunction('convertToInteractive',\n",
              "                                                     [key], {});\n",
              "          if (!dataTable) return;\n",
              "\n",
              "          const docLinkHtml = 'Like what you see? Visit the ' +\n",
              "            '<a target=\"_blank\" href=https://colab.research.google.com/notebooks/data_table.ipynb>data table notebook</a>'\n",
              "            + ' to learn more about interactive tables.';\n",
              "          element.innerHTML = '';\n",
              "          dataTable['output_type'] = 'display_data';\n",
              "          await google.colab.output.renderOutput(dataTable, element);\n",
              "          const docLink = document.createElement('div');\n",
              "          docLink.innerHTML = docLinkHtml;\n",
              "          element.appendChild(docLink);\n",
              "        }\n",
              "      </script>\n",
              "    </div>\n",
              "  </div>\n",
              "  "
            ]
          },
          "metadata": {},
          "execution_count": 104
        }
      ]
    },
    {
      "cell_type": "markdown",
      "source": [
        "## Variance Distribution"
      ],
      "metadata": {
        "id": "m8LQvYJ-ah4D"
      }
    },
    {
      "cell_type": "code",
      "source": [
        "sns.distplot(final_df['S'])"
      ],
      "metadata": {
        "colab": {
          "base_uri": "https://localhost:8080/",
          "height": 487
        },
        "id": "b4QvMwtJtt5i",
        "outputId": "41b91c8e-9937-4080-ff12-3d92f3406b70"
      },
      "execution_count": 107,
      "outputs": [
        {
          "output_type": "stream",
          "name": "stderr",
          "text": [
            "<ipython-input-107-04c3e2351d30>:1: UserWarning: \n",
            "\n",
            "`distplot` is a deprecated function and will be removed in seaborn v0.14.0.\n",
            "\n",
            "Please adapt your code to use either `displot` (a figure-level function with\n",
            "similar flexibility) or `histplot` (an axes-level function for histograms).\n",
            "\n",
            "For a guide to updating your code to use the new functions, please see\n",
            "https://gist.github.com/mwaskom/de44147ed2974457ad6372750bbe5751\n",
            "\n",
            "  sns.distplot(final_df['S'])\n"
          ]
        },
        {
          "output_type": "execute_result",
          "data": {
            "text/plain": [
              "<Axes: xlabel='S', ylabel='Density'>"
            ]
          },
          "metadata": {},
          "execution_count": 107
        },
        {
          "output_type": "display_data",
          "data": {
            "text/plain": [
              "<Figure size 432x288 with 1 Axes>"
            ],
            "image/png": "[encoded data removed]"
          },
          "metadata": {
            "needs_background": "light"
          }
        }
      ]
    },
    {
      "cell_type": "code",
      "source": [
        "model_columns = ['model1', 'model2', 'model3', 'model4', 'model5', 'model6', 'model7']\n",
        "\n",
        "# loop through each model column and plot against human ratings\n",
        "for column in model_columns:\n",
        "    sns.regplot(x='Human Rating (0-1)', y=column, data=final_df)\n",
        "    plt.show()"
      ],
      "metadata": {
        "colab": {
          "base_uri": "https://localhost:8080/",
          "height": 1000
        },
        "id": "55AwPO8jnJVk",
        "outputId": "e21024cc-cdbf-421e-de4e-e795da2c6088"
      },
      "execution_count": 106,
      "outputs": [
        {
          "output_type": "display_data",
          "data": {
            "text/plain": [
              "<Figure size 432x288 with 1 Axes>"
            ],
            "image/png": "[encoded data removed]"
          },
          "metadata": {
            "needs_background": "light"
          }
        },
        {
          "output_type": "display_data",
          "data": {
            "text/plain": [
              "<Figure size 432x288 with 1 Axes>"
            ],
            "image/png": "[encoded data removed]"
          },
          "metadata": {
            "needs_background": "light"
          }
        },
        {
          "output_type": "display_data",
          "data": {
            "text/plain": [
              "<Figure size 432x288 with 1 Axes>"
            ],
            "image/png": "[encoded data removed]"
          },
          "metadata": {
            "needs_background": "light"
          }
        },
        {
          "output_type": "display_data",
          "data": {
            "text/plain": [
              "<Figure size 432x288 with 1 Axes>"
            ],
            "image/png": "[encoded data removed]"
          },
          "metadata": {
            "needs_background": "light"
          }
        },
        {
          "output_type": "display_data",
          "data": {
            "text/plain": [
              "<Figure size 432x288 with 1 Axes>"
            ],
            "image/png": "[encoded data removed]"
          },
          "metadata": {
            "needs_background": "light"
          }
        },
        {
          "output_type": "display_data",
          "data": {
            "text/plain": [
              "<Figure size 432x288 with 1 Axes>"
            ],
            "image/png": "[encoded data removed]"
          },
          "metadata": {
            "needs_background": "light"
          }
        },
        {
          "output_type": "display_data",
          "data": {
            "text/plain": [
              "<Figure size 432x288 with 1 Axes>"
            ],
            "image/png": "[encoded data removed]"
          },
          "metadata": {
            "needs_background": "light"
          }
        }
      ]
    },
    {
      "cell_type": "code",
      "source": [],
      "metadata": {
        "id": "qoYwS0aLoM_U"
      },
      "execution_count": null,
      "outputs": []
    }
  ]
}
