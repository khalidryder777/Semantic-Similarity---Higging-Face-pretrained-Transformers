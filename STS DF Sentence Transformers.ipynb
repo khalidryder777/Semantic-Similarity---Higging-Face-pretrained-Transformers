{
 "cells": [
  {
   "cell_type": "code",
   "execution_count": 1,
   "id": "d55a1a6a",
   "metadata": {},
   "outputs": [],
   "source": [
    "import pandas as pd"
   ]
  },
  {
   "cell_type": "code",
   "execution_count": 14,
   "id": "37d1b232",
   "metadata": {},
   "outputs": [],
   "source": [
    "df = pd.read_csv('ego_text.csv', encoding='cp1252')\n",
    "#df.info()"
   ]
  },
  {
   "cell_type": "code",
   "execution_count": 4,
   "id": "d8b62543",
   "metadata": {},
   "outputs": [],
   "source": [
    "from sentence_transformers import SentenceTransformer\n",
    "from sklearn.metrics.pairwise import cosine_similarity\n",
    "import numpy as np\n",
    "\n",
    "\n",
    "model = SentenceTransformer('sentence-transformers/paraphrase-MiniLM-L6-v2')\n",
    "x = []\n",
    "\n",
    "for i in range(len(df)):\n",
    "    sentences = []\n",
    "    sentences.append(df.iloc[:,1][i])\n",
    "    sentences.append(df.iloc[:,2][i])\n",
    "   \n",
    "    embeddings = model.encode(sentences)\n",
    "    score = cosine_similarity(embeddings[[0]],embeddings[[1]])#[0]\n",
    "    \n",
    "    s = score.tolist()       \n",
    "    x.append(s[0][0])  \n",
    "#print(x)"
   ]
  },
  {
   "cell_type": "code",
   "execution_count": 5,
   "id": "74ad84ba",
   "metadata": {},
   "outputs": [],
   "source": [
    "ES_sim1 = x"
   ]
  },
  {
   "cell_type": "code",
   "execution_count": 6,
   "id": "d76b96ec",
   "metadata": {},
   "outputs": [],
   "source": [
    "y = []\n",
    "\n",
    "for i in range(len(df)):\n",
    "    sentences = []\n",
    "    sentences.append(df.iloc[:,3][i])\n",
    "    sentences.append(df.iloc[:,4][i])\n",
    "    \n",
    "    embeddings = model.encode(sentences)\n",
    "    score = cosine_similarity(embeddings[[0]],embeddings[[1]])#[0]\n",
    "    \n",
    "    s = score.tolist()       \n",
    "    y.append(s[0][0])  \n",
    "    \n",
    "#print(y)"
   ]
  },
  {
   "cell_type": "code",
   "execution_count": 7,
   "id": "ff971289",
   "metadata": {},
   "outputs": [],
   "source": [
    "EP_sim1 = y"
   ]
  },
  {
   "cell_type": "code",
   "execution_count": 8,
   "id": "eaa67657",
   "metadata": {},
   "outputs": [],
   "source": [
    "z = []\n",
    "\n",
    "for i in range(len(df)):\n",
    "    sentences = []\n",
    "    sentences.append(df.iloc[:,5][i])\n",
    "    sentences.append(df.iloc[:,6][i])\n",
    "    \n",
    "    embeddings = model.encode(sentences)\n",
    "    score = cosine_similarity(embeddings[[0]],embeddings[[1]])#[0]\n",
    "\n",
    "    s = score.tolist()       \n",
    "    z.append(s[0][0])  \n",
    "    \n",
    "#print(z)"
   ]
  },
  {
   "cell_type": "code",
   "execution_count": 9,
   "id": "68b5e813",
   "metadata": {},
   "outputs": [],
   "source": [
    "AS_sim1 = z"
   ]
  },
  {
   "cell_type": "code",
   "execution_count": 10,
   "id": "08481efc",
   "metadata": {},
   "outputs": [],
   "source": [
    "a = []\n",
    "\n",
    "for i in range(len(df)):\n",
    "    sentences = []\n",
    "    sentences.append(df.iloc[:,7][i])\n",
    "    sentences.append(df.iloc[:,8][i])\n",
    "\n",
    "\n",
    "    embeddings = model.encode(sentences)\n",
    "    score = cosine_similarity(embeddings[[0]],embeddings[[1]])#[0]\n",
    "    \n",
    "    s = score.tolist()       \n",
    "    a.append(s[0][0])  \n",
    "    \n",
    "#print(a)"
   ]
  },
  {
   "cell_type": "code",
   "execution_count": 11,
   "id": "affc8185",
   "metadata": {},
   "outputs": [],
   "source": [
    "AP_sim1 = a"
   ]
  },
  {
   "cell_type": "code",
   "execution_count": 12,
   "id": "9439bba9",
   "metadata": {},
   "outputs": [],
   "source": [
    "data1 = pd.DataFrame(list(zip(ES_sim1, EP_sim1, AS_sim1, AP_sim1)),\n",
    "               columns =['ES_sim1', 'EP_sim1', 'AS_sim1', 'AP_sim1'])"
   ]
  },
  {
   "cell_type": "code",
   "execution_count": 15,
   "id": "76ca2d58",
   "metadata": {},
   "outputs": [],
   "source": [
    "model = SentenceTransformer('sentence-transformers/all-MiniLM-L6-v2')\n",
    "\n",
    "b = []\n",
    "\n",
    "for i in range(len(df)):\n",
    "    sentences = []\n",
    "    sentences.append(df.iloc[:,1][i])\n",
    "    sentences.append(df.iloc[:,2][i])\n",
    "\n",
    "    embeddings = model.encode(sentences)\n",
    "    score = cosine_similarity(embeddings[[0]],embeddings[[1]])\n",
    "    \n",
    "    s = score.tolist()       \n",
    "    b.append(s[0][0])  \n",
    "    \n",
    "#print(b)"
   ]
  },
  {
   "cell_type": "code",
   "execution_count": 16,
   "id": "f8515cdf",
   "metadata": {},
   "outputs": [],
   "source": [
    "ES_sim2 = b"
   ]
  },
  {
   "cell_type": "code",
   "execution_count": 17,
   "id": "2d44fefa",
   "metadata": {},
   "outputs": [],
   "source": [
    "c = []\n",
    "\n",
    "for i in range(len(df)):\n",
    "    sentences = []\n",
    "    sentences.append(df.iloc[:,3][i])\n",
    "    sentences.append(df.iloc[:,4][i])\n",
    "    \n",
    "    embeddings = model.encode(sentences)\n",
    "\n",
    "    score = cosine_similarity(embeddings[[0]],embeddings[[1]])\n",
    "    \n",
    "    s = score.tolist()       \n",
    "    c.append(s[0][0])  \n",
    "    \n",
    "#print(c)"
   ]
  },
  {
   "cell_type": "code",
   "execution_count": 18,
   "id": "f2645d9d",
   "metadata": {},
   "outputs": [],
   "source": [
    "EP_sim2 = c"
   ]
  },
  {
   "cell_type": "code",
   "execution_count": 19,
   "id": "804ad401",
   "metadata": {},
   "outputs": [],
   "source": [
    "d = []\n",
    "\n",
    "for i in range(len(df)):\n",
    "    sentences = []\n",
    "    sentences.append(df.iloc[:,5][i])\n",
    "    sentences.append(df.iloc[:,6][i])\n",
    "\n",
    "    embeddings = model.encode(sentences)\n",
    "\n",
    "    score = cosine_similarity(embeddings[[0]],embeddings[[1]])\n",
    "    #print(score)\n",
    "    s = score.tolist()       \n",
    "    d.append(s[0][0])  \n",
    "    \n",
    "#print(d)"
   ]
  },
  {
   "cell_type": "code",
   "execution_count": 20,
   "id": "eef6ec13",
   "metadata": {},
   "outputs": [],
   "source": [
    "AS_sim2 = d"
   ]
  },
  {
   "cell_type": "code",
   "execution_count": 21,
   "id": "07879d18",
   "metadata": {},
   "outputs": [],
   "source": [
    "e = []\n",
    "\n",
    "for i in range(len(df)):\n",
    "    sentences = []\n",
    "    sentences.append(df.iloc[:,7][i])\n",
    "    sentences.append(df.iloc[:,8][i])\n",
    "\n",
    "    \n",
    "    embeddings = model.encode(sentences)\n",
    "\n",
    "    score = cosine_similarity(embeddings[[0]],embeddings[[1]])#[0]\n",
    "    \n",
    "    s = score.tolist()       \n",
    "    e.append(s[0][0])  \n",
    "    \n",
    "#print(e)"
   ]
  },
  {
   "cell_type": "code",
   "execution_count": 22,
   "id": "8a6fb127",
   "metadata": {},
   "outputs": [],
   "source": [
    "AP_sim2 = e"
   ]
  },
  {
   "cell_type": "code",
   "execution_count": 23,
   "id": "6e8a5779",
   "metadata": {},
   "outputs": [],
   "source": [
    "OP_data = pd.DataFrame(list(zip(ES_sim1, EP_sim1, AS_sim1, AP_sim1, ES_sim2, EP_sim2, AS_sim2, AP_sim2)),\n",
    "               columns =['ES_sim1', 'EP_sim1', 'AS_sim1', 'AP_sim1', 'ES_sim2', 'EP_sim2', 'AS_sim2', 'AP_sim2'])"
   ]
  },
  {
   "cell_type": "code",
   "execution_count": 24,
   "id": "f8371fe9",
   "metadata": {},
   "outputs": [],
   "source": [
    "result = pd.concat([df, OP_data], axis=1)"
   ]
  },
  {
   "cell_type": "code",
   "execution_count": 25,
   "id": "5ee107a6",
   "metadata": {},
   "outputs": [],
   "source": [
    "result.to_csv('df_sim', index=False)"
   ]
  },
  {
   "cell_type": "code",
   "execution_count": null,
   "id": "a5e2d7ec",
   "metadata": {},
   "outputs": [],
   "source": []
  },
  {
   "cell_type": "code",
   "execution_count": null,
   "id": "65b001ad",
   "metadata": {},
   "outputs": [],
   "source": []
  }
 ],
 "metadata": {
  "kernelspec": {
   "display_name": "Python 3 (ipykernel)",
   "language": "python",
   "name": "python3"
  },
  "language_info": {
   "codemirror_mode": {
    "name": "ipython",
    "version": 3
   },
   "file_extension": ".py",
   "mimetype": "text/x-python",
   "name": "python",
   "nbconvert_exporter": "python",
   "pygments_lexer": "ipython3",
   "version": "3.9.7"
  }
 },
 "nbformat": 4,
 "nbformat_minor": 5
}
